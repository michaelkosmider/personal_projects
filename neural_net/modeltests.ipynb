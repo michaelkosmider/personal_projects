{
 "cells": [
  {
   "cell_type": "code",
   "execution_count": 1,
   "metadata": {},
   "outputs": [
    {
     "data": {
      "text/plain": [
       "<module 'neuralnet' from '/Users/michaelkosmider/personal_projects/personal_projects/neural_net/neuralnet.py'>"
      ]
     },
     "execution_count": 1,
     "metadata": {},
     "output_type": "execute_result"
    }
   ],
   "source": [
    "import neuralnet\n",
    "from neuralnet import Neural_net\n",
    "import tensorflow as tf\n",
    "import importlib\n",
    "importlib.reload(neuralnet)"
   ]
  },
  {
   "cell_type": "code",
   "execution_count": 2,
   "metadata": {},
   "outputs": [],
   "source": [
    "fashion_mnist = tf.keras.datasets.fashion_mnist.load_data()\n",
    "(X_train_full, y_train_full), (X_test, y_test) = fashion_mnist\n",
    "X_train, y_train = X_train_full[:-5000], y_train_full[:-5000]\n",
    "X_valid, y_valid = X_train_full[-5000:], y_train_full[-5000:]"
   ]
  },
  {
   "cell_type": "code",
   "execution_count": 3,
   "metadata": {},
   "outputs": [],
   "source": [
    "X_train = X_train.reshape((55000, 784)) \n",
    "X_valid = X_valid.reshape((5000, 784))\n",
    "X_train = X_train/255\n",
    "X_valid = X_valid/255"
   ]
  },
  {
   "cell_type": "code",
   "execution_count": 4,
   "metadata": {},
   "outputs": [
    {
     "name": "stdout",
     "output_type": "stream",
     "text": [
      "Epoch 1 . Accuracy: 0.1768\n",
      "Epoch 2 . Accuracy: 0.2754\n",
      "Epoch 3 . Accuracy: 0.3776\n",
      "Epoch 4 . Accuracy: 0.4376\n",
      "Epoch 5 . Accuracy: 0.4726\n",
      "Epoch 6 . Accuracy: 0.501\n",
      "Epoch 7 . Accuracy: 0.5216\n",
      "Epoch 8 . Accuracy: 0.5344\n",
      "Epoch 9 . Accuracy: 0.5482\n",
      "Epoch 10 . Accuracy: 0.5636\n",
      "Epoch 11 . Accuracy: 0.5738\n",
      "Epoch 12 . Accuracy: 0.581\n",
      "Epoch 13 . Accuracy: 0.5878\n",
      "Epoch 14 . Accuracy: 0.597\n",
      "Epoch 15 . Accuracy: 0.6026\n",
      "Epoch 16 . Accuracy: 0.6116\n",
      "Epoch 17 . Accuracy: 0.6174\n",
      "Epoch 18 . Accuracy: 0.6208\n",
      "Epoch 19 . Accuracy: 0.6266\n",
      "Epoch 20 . Accuracy: 0.6292\n",
      "Epoch 21 . Accuracy: 0.6314\n",
      "Epoch 22 . Accuracy: 0.6372\n",
      "Epoch 23 . Accuracy: 0.642\n",
      "Epoch 24 . Accuracy: 0.6464\n",
      "Epoch 25 . Accuracy: 0.6484\n",
      "Epoch 26 . Accuracy: 0.6514\n",
      "Epoch 27 . Accuracy: 0.6562\n",
      "Epoch 28 . Accuracy: 0.6602\n",
      "Epoch 29 . Accuracy: 0.6616\n",
      "Epoch 30 . Accuracy: 0.6636\n",
      "Epoch 31 . Accuracy: 0.6652\n",
      "Epoch 32 . Accuracy: 0.667\n",
      "Epoch 33 . Accuracy: 0.6672\n",
      "Epoch 34 . Accuracy: 0.6686\n",
      "Epoch 35 . Accuracy: 0.67\n",
      "Epoch 36 . Accuracy: 0.6716\n",
      "Epoch 37 . Accuracy: 0.6728\n",
      "Epoch 38 . Accuracy: 0.6746\n",
      "Epoch 39 . Accuracy: 0.6774\n",
      "Epoch 40 . Accuracy: 0.6786\n",
      "Epoch 41 . Accuracy: 0.6798\n",
      "Epoch 42 . Accuracy: 0.6812\n",
      "Epoch 43 . Accuracy: 0.6836\n",
      "Epoch 44 . Accuracy: 0.684\n",
      "Epoch 45 . Accuracy: 0.687\n",
      "Epoch 46 . Accuracy: 0.687\n",
      "Epoch 47 . Accuracy: 0.6886\n",
      "Epoch 48 . Accuracy: 0.69\n",
      "Epoch 49 . Accuracy: 0.69\n",
      "Epoch 50 . Accuracy: 0.691\n"
     ]
    },
    {
     "data": {
      "image/png": "[encoded data removed]",
      "text/plain": [
       "<Figure size 640x480 with 1 Axes>"
      ]
     },
     "metadata": {},
     "output_type": "display_data"
    }
   ],
   "source": [
    "model = Neural_net(shape=[200,200], epochs=50, learning_rate=0.01)\n",
    "model.fit(X_train, y_train, X_valid, y_valid)"
   ]
  }
 ],
 "metadata": {
  "kernelspec": {
   "display_name": "tf-gpu",
   "language": "python",
   "name": "python3"
  },
  "language_info": {
   "codemirror_mode": {
    "name": "ipython",
    "version": 3
   },
   "file_extension": ".py",
   "mimetype": "text/x-python",
   "name": "python",
   "nbconvert_exporter": "python",
   "pygments_lexer": "ipython3",
   "version": "3.10.10"
  },
  "orig_nbformat": 4
 },
 "nbformat": 4,
 "nbformat_minor": 2
}
