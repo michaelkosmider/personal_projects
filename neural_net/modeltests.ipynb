{
 "cells": [
  {
   "cell_type": "code",
   "execution_count": 29,
   "metadata": {},
   "outputs": [
    {
     "data": {
      "text/plain": [
       "<module 'neuralnet' from '/Users/michaelkosmider/personal_projects/personal_projects/neural_net/neuralnet.py'>"
      ]
     },
     "execution_count": 29,
     "metadata": {},
     "output_type": "execute_result"
    }
   ],
   "source": [
    "import neuralnet\n",
    "from neuralnet import Neural_net\n",
    "import tensorflow as tf\n",
    "import importlib\n",
    "importlib.reload(neuralnet)"
   ]
  },
  {
   "cell_type": "code",
   "execution_count": 17,
   "metadata": {},
   "outputs": [],
   "source": [
    "fashion_mnist = tf.keras.datasets.fashion_mnist.load_data()\n",
    "(X_train_full, y_train_full), (X_test, y_test) = fashion_mnist\n",
    "X_train, y_train = X_train_full[:-5000], y_train_full[:-5000]\n",
    "X_valid, y_valid = X_train_full[-5000:], y_train_full[-5000:]"
   ]
  },
  {
   "cell_type": "code",
   "execution_count": 20,
   "metadata": {},
   "outputs": [],
   "source": [
    "X_train = X_train.reshape((55000, 784)) \n",
    "X_valid = X_valid.reshape((5000, 784))\n",
    "X_train = X_train/255\n",
    "X_valid = X_valid/255"
   ]
  },
  {
   "cell_type": "code",
   "execution_count": 35,
   "metadata": {},
   "outputs": [
    {
     "name": "stdout",
     "output_type": "stream",
     "text": [
      "Epoch 1 . Accuracy: 0.2256\n",
      "Epoch 2 . Accuracy: 0.3278\n",
      "Epoch 3 . Accuracy: 0.401\n",
      "Epoch 4 . Accuracy: 0.4506\n",
      "Epoch 5 . Accuracy: 0.4828\n",
      "Epoch 6 . Accuracy: 0.5106\n",
      "Epoch 7 . Accuracy: 0.5314\n",
      "Epoch 8 . Accuracy: 0.5438\n",
      "Epoch 9 . Accuracy: 0.5584\n",
      "Epoch 10 . Accuracy: 0.5704\n",
      "Epoch 11 . Accuracy: 0.5818\n",
      "Epoch 12 . Accuracy: 0.589\n",
      "Epoch 13 . Accuracy: 0.5966\n",
      "Epoch 14 . Accuracy: 0.6016\n",
      "Epoch 15 . Accuracy: 0.6108\n",
      "Epoch 16 . Accuracy: 0.6186\n",
      "Epoch 17 . Accuracy: 0.6236\n",
      "Epoch 18 . Accuracy: 0.6286\n",
      "Epoch 19 . Accuracy: 0.632\n",
      "Epoch 20 . Accuracy: 0.6376\n",
      "Epoch 21 . Accuracy: 0.6424\n",
      "Epoch 22 . Accuracy: 0.645\n",
      "Epoch 23 . Accuracy: 0.6472\n",
      "Epoch 24 . Accuracy: 0.6522\n",
      "Epoch 25 . Accuracy: 0.6558\n",
      "Epoch 26 . Accuracy: 0.6602\n",
      "Epoch 27 . Accuracy: 0.664\n",
      "Epoch 28 . Accuracy: 0.6668\n",
      "Epoch 29 . Accuracy: 0.6676\n",
      "Epoch 30 . Accuracy: 0.6702\n",
      "Epoch 31 . Accuracy: 0.6722\n",
      "Epoch 32 . Accuracy: 0.6744\n",
      "Epoch 33 . Accuracy: 0.6762\n",
      "Epoch 34 . Accuracy: 0.6776\n",
      "Epoch 35 . Accuracy: 0.6808\n",
      "Epoch 36 . Accuracy: 0.683\n",
      "Epoch 37 . Accuracy: 0.6858\n",
      "Epoch 38 . Accuracy: 0.6866\n",
      "Epoch 39 . Accuracy: 0.6892\n",
      "Epoch 40 . Accuracy: 0.6914\n",
      "Epoch 41 . Accuracy: 0.6924\n",
      "Epoch 42 . Accuracy: 0.6934\n",
      "Epoch 43 . Accuracy: 0.6958\n",
      "Epoch 44 . Accuracy: 0.6976\n",
      "Epoch 45 . Accuracy: 0.6988\n",
      "Epoch 46 . Accuracy: 0.7\n",
      "Epoch 47 . Accuracy: 0.7012\n",
      "Epoch 48 . Accuracy: 0.702\n",
      "Epoch 49 . Accuracy: 0.7024\n",
      "Epoch 50 . Accuracy: 0.704\n"
     ]
    },
    {
     "data": {
      "image/png": "[encoded data removed]",
      "text/plain": [
       "<Figure size 640x480 with 1 Axes>"
      ]
     },
     "metadata": {},
     "output_type": "display_data"
    }
   ],
   "source": [
    "model = Neural_net(shape=[200,200], epochs=50, learning_rate=0.01)\n",
    "model.fit(X_train, y_train, X_valid, y_valid)"
   ]
  }
 ],
 "metadata": {
  "kernelspec": {
   "display_name": "tf-gpu",
   "language": "python",
   "name": "python3"
  },
  "language_info": {
   "codemirror_mode": {
    "name": "ipython",
    "version": 3
   },
   "file_extension": ".py",
   "mimetype": "text/x-python",
   "name": "python",
   "nbconvert_exporter": "python",
   "pygments_lexer": "ipython3",
   "version": "3.10.10"
  },
  "orig_nbformat": 4
 },
 "nbformat": 4,
 "nbformat_minor": 2
}
