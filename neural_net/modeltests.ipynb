{
 "cells": [
  {
   "cell_type": "code",
   "execution_count": 1,
   "metadata": {},
   "outputs": [
    {
     "name": "stderr",
     "output_type": "stream",
     "text": [
      "2023-04-19 15:12:44.368042: I tensorflow/stream_executor/platform/default/dso_loader.cc:49] Successfully opened dynamic library libcudart.so.10.1\n"
     ]
    }
   ],
   "source": [
    "from neuralnet import Neural_net\n",
    "import tensorflow as tf"
   ]
  },
  {
   "cell_type": "code",
   "execution_count": 3,
   "metadata": {},
   "outputs": [],
   "source": [
    "fashion_mnist = tf.keras.datasets.fashion_mnist.load_data()\n",
    "(X_train_full, y_train_full), (X_test, y_test) = fashion_mnist\n",
    "X_train, y_train = X_train_full[:-5000], y_train_full[:-5000]\n",
    "X_valid, y_valid = X_train_full[-5000:], y_train_full[-5000:]"
   ]
  },
  {
   "cell_type": "code",
   "execution_count": 4,
   "metadata": {},
   "outputs": [],
   "source": [
    "X_train, X_valid, X_test = X_train / 255., X_valid / 255., X_test / 255."
   ]
  },
  {
   "cell_type": "code",
   "execution_count": 7,
   "metadata": {},
   "outputs": [],
   "source": [
    "tf.random.set_seed(42)\n",
    "model = tf.keras.Sequential()\n",
    "model.add(tf.keras.layers.Input(shape=[28, 28]))\n",
    "model.add(tf.keras.layers.Flatten())\n",
    "model.add(tf.keras.layers.Dense(300, activation=\"relu\"))\n",
    "model.add(tf.keras.layers.Dense(100, activation=\"relu\"))\n",
    "model.add(tf.keras.layers.Dense(10, activation=\"softmax\"))"
   ]
  },
  {
   "cell_type": "code",
   "execution_count": 8,
   "metadata": {},
   "outputs": [],
   "source": [
    "model.compile(loss=\"sparse_categorical_crossentropy\",\n",
    "optimizer=\"sgd\",\n",
    "metrics=[\"accuracy\"])"
   ]
  },
  {
   "cell_type": "code",
   "execution_count": 10,
   "metadata": {},
   "outputs": [
    {
     "data": {
      "text/plain": [
       "[PhysicalDevice(name='/physical_device:CPU:0', device_type='CPU'),\n",
       " PhysicalDevice(name='/physical_device:GPU:0', device_type='GPU')]"
      ]
     },
     "execution_count": 10,
     "metadata": {},
     "output_type": "execute_result"
    }
   ],
   "source": [
    "tf.config.list_physical_devices(\n",
    "    device_type=None\n",
    ")"
   ]
  },
  {
   "cell_type": "code",
   "execution_count": 12,
   "metadata": {},
   "outputs": [
    {
     "name": "stdout",
     "output_type": "stream",
     "text": [
      "Epoch 1/30\n",
      " 186/1719 [==>...........................] - ETA: 1s - loss: 0.1315 - accuracy: 0.9556"
     ]
    },
    {
     "name": "stderr",
     "output_type": "stream",
     "text": [
      "2023-04-19 15:27:16.929490: W tensorflow/core/framework/cpu_allocator_impl.cc:80] Allocation of 172480000 exceeds 10% of free system memory.\n"
     ]
    },
    {
     "name": "stdout",
     "output_type": "stream",
     "text": [
      "1719/1719 [==============================] - 2s 878us/step - loss: 0.1331 - accuracy: 0.9528 - val_loss: 0.3448 - val_accuracy: 0.8916\n",
      "Epoch 2/30\n",
      "1719/1719 [==============================] - 1s 821us/step - loss: 0.1312 - accuracy: 0.9539 - val_loss: 0.3324 - val_accuracy: 0.8944\n",
      "Epoch 3/30\n",
      "1719/1719 [==============================] - 1s 868us/step - loss: 0.1284 - accuracy: 0.9561 - val_loss: 0.3336 - val_accuracy: 0.8932\n",
      "Epoch 4/30\n",
      "1719/1719 [==============================] - 1s 786us/step - loss: 0.1283 - accuracy: 0.9552 - val_loss: 0.3352 - val_accuracy: 0.8938\n",
      "Epoch 5/30\n",
      "1719/1719 [==============================] - 1s 856us/step - loss: 0.1256 - accuracy: 0.9557 - val_loss: 0.3359 - val_accuracy: 0.8922\n",
      "Epoch 6/30\n",
      "1719/1719 [==============================] - 2s 952us/step - loss: 0.1225 - accuracy: 0.9577 - val_loss: 0.3633 - val_accuracy: 0.8872\n",
      "Epoch 7/30\n",
      "1719/1719 [==============================] - 2s 905us/step - loss: 0.1206 - accuracy: 0.9576 - val_loss: 0.3478 - val_accuracy: 0.8934\n",
      "Epoch 8/30\n",
      "1719/1719 [==============================] - 1s 821us/step - loss: 0.1187 - accuracy: 0.9591 - val_loss: 0.3421 - val_accuracy: 0.8948\n",
      "Epoch 9/30\n",
      "1719/1719 [==============================] - 1s 860us/step - loss: 0.1175 - accuracy: 0.9591 - val_loss: 0.3365 - val_accuracy: 0.8910\n",
      "Epoch 10/30\n",
      "1719/1719 [==============================] - 1s 793us/step - loss: 0.1155 - accuracy: 0.9603 - val_loss: 0.3630 - val_accuracy: 0.8882\n",
      "Epoch 11/30\n",
      "1719/1719 [==============================] - 1s 785us/step - loss: 0.1128 - accuracy: 0.9612 - val_loss: 0.3399 - val_accuracy: 0.8924\n",
      "Epoch 12/30\n",
      "1719/1719 [==============================] - 1s 799us/step - loss: 0.1114 - accuracy: 0.9610 - val_loss: 0.3405 - val_accuracy: 0.8930\n",
      "Epoch 13/30\n",
      "1719/1719 [==============================] - 1s 741us/step - loss: 0.1093 - accuracy: 0.9619 - val_loss: 0.3433 - val_accuracy: 0.8926\n",
      "Epoch 14/30\n",
      "1719/1719 [==============================] - 2s 890us/step - loss: 0.1083 - accuracy: 0.9626 - val_loss: 0.3628 - val_accuracy: 0.8872\n",
      "Epoch 15/30\n",
      "1719/1719 [==============================] - 1s 787us/step - loss: 0.1053 - accuracy: 0.9638 - val_loss: 0.3515 - val_accuracy: 0.8950\n",
      "Epoch 16/30\n",
      "1719/1719 [==============================] - 1s 829us/step - loss: 0.1028 - accuracy: 0.9646 - val_loss: 0.3536 - val_accuracy: 0.8912\n",
      "Epoch 17/30\n",
      "1719/1719 [==============================] - 1s 772us/step - loss: 0.1023 - accuracy: 0.9653 - val_loss: 0.3456 - val_accuracy: 0.8940\n",
      "Epoch 18/30\n",
      "1719/1719 [==============================] - 1s 753us/step - loss: 0.1002 - accuracy: 0.9658 - val_loss: 0.3481 - val_accuracy: 0.8938\n",
      "Epoch 19/30\n",
      "1719/1719 [==============================] - 1s 691us/step - loss: 0.0989 - accuracy: 0.9659 - val_loss: 0.4550 - val_accuracy: 0.8650\n",
      "Epoch 20/30\n",
      "1719/1719 [==============================] - 1s 753us/step - loss: 0.0970 - accuracy: 0.9676 - val_loss: 0.3767 - val_accuracy: 0.8894\n",
      "Epoch 21/30\n",
      "1719/1719 [==============================] - 2s 894us/step - loss: 0.0955 - accuracy: 0.9667 - val_loss: 0.3562 - val_accuracy: 0.8974\n",
      "Epoch 22/30\n",
      "1719/1719 [==============================] - 1s 811us/step - loss: 0.0948 - accuracy: 0.9665 - val_loss: 0.3663 - val_accuracy: 0.8912\n",
      "Epoch 23/30\n",
      "1719/1719 [==============================] - 1s 728us/step - loss: 0.0933 - accuracy: 0.9673 - val_loss: 0.3724 - val_accuracy: 0.8896\n",
      "Epoch 24/30\n",
      "1719/1719 [==============================] - 1s 754us/step - loss: 0.0906 - accuracy: 0.9689 - val_loss: 0.3672 - val_accuracy: 0.8952\n",
      "Epoch 25/30\n",
      "1719/1719 [==============================] - 1s 841us/step - loss: 0.0891 - accuracy: 0.9698 - val_loss: 0.3583 - val_accuracy: 0.8960\n",
      "Epoch 26/30\n",
      "1719/1719 [==============================] - 1s 785us/step - loss: 0.0874 - accuracy: 0.9708 - val_loss: 0.3727 - val_accuracy: 0.8878\n",
      "Epoch 27/30\n",
      "1719/1719 [==============================] - 1s 696us/step - loss: 0.0846 - accuracy: 0.9711 - val_loss: 0.3793 - val_accuracy: 0.8928\n",
      "Epoch 28/30\n",
      "1719/1719 [==============================] - 1s 844us/step - loss: 0.0847 - accuracy: 0.9709 - val_loss: 0.3769 - val_accuracy: 0.8956\n",
      "Epoch 29/30\n",
      "1719/1719 [==============================] - 1s 839us/step - loss: 0.0840 - accuracy: 0.9714 - val_loss: 0.3765 - val_accuracy: 0.8914\n",
      "Epoch 30/30\n",
      "1719/1719 [==============================] - 1s 807us/step - loss: 0.0808 - accuracy: 0.9716 - val_loss: 0.3857 - val_accuracy: 0.8916\n"
     ]
    }
   ],
   "source": [
    "with tf.device('/GPU:0'):\n",
    "    history = model.fit(X_train, y_train, epochs=30,validation_data=(X_valid, y_valid))"
   ]
  }
 ],
 "metadata": {
  "kernelspec": {
   "display_name": "tf-gpu",
   "language": "python",
   "name": "python3"
  },
  "language_info": {
   "codemirror_mode": {
    "name": "ipython",
    "version": 3
   },
   "file_extension": ".py",
   "mimetype": "text/x-python",
   "name": "python",
   "nbconvert_exporter": "python",
   "pygments_lexer": "ipython3",
   "version": "3.9.16"
  },
  "orig_nbformat": 4
 },
 "nbformat": 4,
 "nbformat_minor": 2
}
